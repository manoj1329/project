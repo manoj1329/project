{
 "cells": [
  {
   "cell_type": "code",
   "execution_count": null,
   "metadata": {},
   "outputs": [],
   "source": [
    "def mac_addr(address):\n",
    "    \"\"\"Convert a MAC address to a readable/printable string\n",
    "\n",
    "       Args:\n",
    "           address (str): a MAC address in hex form (e.g. '\\x01\\x02\\x03\\x04\\x05\\x06')\n",
    "       Returns:\n",
    "           str: Printable/readable MAC address\n",
    "    \"\"\"\n",
    "    return ':'.join('%02x' % compat_ord(b) for b in address)\n",
    "\n",
    "\n",
    "def inet_to_str(inet):\n",
    "    \"\"\"Convert inet object to a string\n",
    "\n",
    "        Args:\n",
    "            inet (inet struct): inet network address\n",
    "        Returns:\n",
    "            str: Printable/readable IP address\n",
    "    \"\"\"\n",
    "    # First try ipv4 and then ipv6\n",
    "    try:\n",
    "        return socket.inet_ntop(socket.AF_INET, inet)\n",
    "    except ValueError:\n",
    "        return socket.inet_ntop(socket.AF_INET6, inet)"
   ]
  },
  {
   "cell_type": "code",
   "execution_count": null,
   "metadata": {},
   "outputs": [],
   "source": []
  }
 ],
 "metadata": {
  "kernelspec": {
   "display_name": "Python 3",
   "language": "python",
   "name": "python3"
  },
  "language_info": {
   "codemirror_mode": {
    "name": "ipython",
    "version": 3
   },
   "file_extension": ".py",
   "mimetype": "text/x-python",
   "name": "python",
   "nbconvert_exporter": "python",
   "pygments_lexer": "ipython3",
   "version": "3.7.4"
  }
 },
 "nbformat": 4,
 "nbformat_minor": 2
}
