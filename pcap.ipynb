{
 "cells": [
  {
   "cell_type": "code",
   "execution_count": 1,
   "metadata": {},
   "outputs": [],
   "source": [
    "import pandas as pd # Pandas - Create and Manipulate DataFrames\n",
    "import numpy as np # Math Stuff (don't worry only used for one line :] )\n",
    "import binascii # Binary to Ascii \n",
    "import seaborn as sns\n",
    "import dpkt\n",
    "import pandas as pd # Pandas - Create and Manipulate DataFrames\n",
    "import numpy as np # Math Stuff (don't worry only used for one line :] )\n",
    "import binascii # Binary to Ascii \n",
    "import seaborn as sns\n",
    "sns.set(color_codes=True)\n",
    "%matplotlib inline\n",
    "import scapy"
   ]
  },
  {
   "cell_type": "code",
   "execution_count": 2,
   "metadata": {},
   "outputs": [],
   "source": [
    "f = open('C:\\\\Users\\\\udayk\\\\Desktop\\\\mmj\\\\sample.pcap', 'rb')\n",
    "pcap = dpkt.pcapng.Reader(f)"
   ]
  },
  {
   "cell_type": "code",
   "execution_count": 3,
   "metadata": {},
   "outputs": [
    {
     "ename": "NameError",
     "evalue": "name 'rdpcap' is not defined",
     "output_type": "error",
     "traceback": [
      "\u001b[1;31m---------------------------------------------------------------------------\u001b[0m",
      "\u001b[1;31mNameError\u001b[0m                                 Traceback (most recent call last)",
      "\u001b[1;32m<ipython-input-3-fb7626292143>\u001b[0m in \u001b[0;36m<module>\u001b[1;34m\u001b[0m\n\u001b[1;32m----> 1\u001b[1;33m \u001b[0mpcap\u001b[0m \u001b[1;33m=\u001b[0m\u001b[0mrdpcap\u001b[0m\u001b[1;33m(\u001b[0m\u001b[1;34m'C:\\\\Users\\\\udayk\\\\Desktop\\\\mmj\\\\sample.pcap'\u001b[0m\u001b[1;33m,\u001b[0m \u001b[1;34m'rb'\u001b[0m\u001b[1;33m)\u001b[0m\u001b[1;33m\u001b[0m\u001b[1;33m\u001b[0m\u001b[0m\n\u001b[0m",
      "\u001b[1;31mNameError\u001b[0m: name 'rdpcap' is not defined"
     ]
    }
   ],
   "source": [
    "pcap =rdpcap('C:\\\\Users\\\\udayk\\\\Desktop\\\\mmj\\\\sample.pcap', 'rb')"
   ]
  }
 ],
 "metadata": {
  "kernelspec": {
   "display_name": "Python 3",
   "language": "python",
   "name": "python3"
  },
  "language_info": {
   "codemirror_mode": {
    "name": "ipython",
    "version": 3
   },
   "file_extension": ".py",
   "mimetype": "text/x-python",
   "name": "python",
   "nbconvert_exporter": "python",
   "pygments_lexer": "ipython3",
   "version": "3.7.4"
  }
 },
 "nbformat": 4,
 "nbformat_minor": 2
}
